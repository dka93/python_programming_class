{
 "cells": [
  {
   "cell_type": "markdown",
   "id": "dea92b04-51a5-4f8d-be38-5eb0fc7144f4",
   "metadata": {},
   "source": [
    "## Quiz on Conditions"
   ]
  },
  {
   "cell_type": "markdown",
   "id": "4af99de0-16eb-4114-9df9-61e85ac5c706",
   "metadata": {},
   "source": [
    "#### Write an if statement to determine if an album had a rating greater than 8. Test it using the rating for the album “Back in Black” that had a rating of 8.5. If the statement is true print \"This album is Amazing!\""
   ]
  },
  {
   "cell_type": "code",
   "execution_count": 4,
   "id": "73927fe5-264d-4789-afce-5724b6333f04",
   "metadata": {},
   "outputs": [
    {
     "name": "stdout",
     "output_type": "stream",
     "text": [
      "This album is Amazing!\n"
     ]
    }
   ],
   "source": [
    "rating = 8.8\n",
    "if rating > 8:\n",
    "    print (\"This album is Amazing!\")"
   ]
  },
  {
   "cell_type": "markdown",
   "id": "a23321db-6a38-4db8-9293-e47b6ff212a9",
   "metadata": {},
   "source": [
    "#### Write an if-else statement that performs the following. If the rating is larger then eight print “this album is amazing”. If the rating is less than or equal to 8 print “this album is ok”."
   ]
  },
  {
   "cell_type": "code",
   "execution_count": 3,
   "id": "ce036337-80a8-4b9e-946b-a750f6b7801a",
   "metadata": {},
   "outputs": [
    {
     "name": "stdout",
     "output_type": "stream",
     "text": [
      "this album is ok\n"
     ]
    }
   ],
   "source": [
    "rating = 7.9\n",
    "if rating > 8:\n",
    "    print (\"this album is amazing\")\n",
    "else:\n",
    "    print (\"this album is ok\")"
   ]
  },
  {
   "cell_type": "markdown",
   "id": "746dca9d-b078-4db4-b6e0-34825fe0d9a0",
   "metadata": {},
   "source": [
    "#### Write an if statement to determine if an album came out before 1980 or in the years: 1991 or 1993. If the condition is true print out the year the album came out."
   ]
  },
  {
   "cell_type": "code",
   "execution_count": 6,
   "id": "497f48c6-4f52-46a3-a7f5-93eb1916377a",
   "metadata": {},
   "outputs": [
    {
     "name": "stdout",
     "output_type": "stream",
     "text": [
      "this album came out already\n"
     ]
    }
   ],
   "source": [
    "album_year = 1975\n",
    "\n",
    "if album_year < 1980 or album_year == 1991 or album_year == 1993:\n",
    "    print (\"this album came out already\")"
   ]
  }
 ],
 "metadata": {
  "kernelspec": {
   "display_name": "Python 3 (ipykernel)",
   "language": "python",
   "name": "python3"
  },
  "language_info": {
   "codemirror_mode": {
    "name": "ipython",
    "version": 3
   },
   "file_extension": ".py",
   "mimetype": "text/x-python",
   "name": "python",
   "nbconvert_exporter": "python",
   "pygments_lexer": "ipython3",
   "version": "3.13.2"
  }
 },
 "nbformat": 4,
 "nbformat_minor": 5
}
