{
 "cells": [
  {
   "cell_type": "code",
   "execution_count": 1,
   "id": "34fb3f21-978b-4dbf-8a68-39bcd01e3ee2",
   "metadata": {},
   "outputs": [],
   "source": [
    "result = 0"
   ]
  },
  {
   "cell_type": "code",
   "execution_count": 2,
   "id": "e3e7ef3a-53c5-4671-a5c5-488559a46011",
   "metadata": {},
   "outputs": [],
   "source": [
    "def adder(num):\n",
    "    global result\n",
    "    result += num\n",
    "    return result"
   ]
  },
  {
   "cell_type": "code",
   "execution_count": 3,
   "id": "8c2dfa74-4032-431f-9def-9841db2f1bff",
   "metadata": {},
   "outputs": [
    {
     "name": "stdout",
     "output_type": "stream",
     "text": [
      "3\n"
     ]
    }
   ],
   "source": [
    "print(adder(3))"
   ]
  },
  {
   "cell_type": "code",
   "execution_count": 4,
   "id": "30753490-cc48-40b3-a485-069f3b36812f",
   "metadata": {},
   "outputs": [
    {
     "name": "stdout",
     "output_type": "stream",
     "text": [
      "7\n"
     ]
    }
   ],
   "source": [
    "print(adder(4))"
   ]
  },
  {
   "cell_type": "code",
   "execution_count": 5,
   "id": "fa4a993b-ab07-47ff-a488-f580dd002cb2",
   "metadata": {},
   "outputs": [
    {
     "name": "stdout",
     "output_type": "stream",
     "text": [
      "11\n"
     ]
    }
   ],
   "source": [
    "print(adder(4))"
   ]
  },
  {
   "cell_type": "code",
   "execution_count": 6,
   "id": "06c9d486-dd40-4d69-96c6-b1114acac5e1",
   "metadata": {},
   "outputs": [
    {
     "name": "stdout",
     "output_type": "stream",
     "text": [
      "16\n"
     ]
    }
   ],
   "source": [
    "print(adder(5))"
   ]
  },
  {
   "cell_type": "code",
   "execution_count": 7,
   "id": "5a2be007-197c-4001-9846-56fad31dfead",
   "metadata": {},
   "outputs": [],
   "source": [
    "result1 = 0\n",
    "result2 = 0"
   ]
  },
  {
   "cell_type": "code",
   "execution_count": 10,
   "id": "613baf78-c960-407c-be59-64ed40ab552a",
   "metadata": {},
   "outputs": [],
   "source": [
    "def adder1(num):\n",
    "    global result1\n",
    "    result1 += num\n",
    "    return result1"
   ]
  },
  {
   "cell_type": "code",
   "execution_count": 11,
   "id": "41b61b1c-83a5-40f5-a42f-2138d5500515",
   "metadata": {},
   "outputs": [],
   "source": [
    "def adder2(num):\n",
    "    global result2\n",
    "    result2 += num\n",
    "    return result2"
   ]
  },
  {
   "cell_type": "code",
   "execution_count": 12,
   "id": "a520ce34-1263-406e-99c1-ad44ea260e83",
   "metadata": {},
   "outputs": [
    {
     "name": "stdout",
     "output_type": "stream",
     "text": [
      "3\n"
     ]
    }
   ],
   "source": [
    "print(adder1(3))"
   ]
  },
  {
   "cell_type": "code",
   "execution_count": 13,
   "id": "45f9accd-c796-4ac6-9e12-c615494711ea",
   "metadata": {},
   "outputs": [
    {
     "name": "stdout",
     "output_type": "stream",
     "text": [
      "7\n"
     ]
    }
   ],
   "source": [
    "print(adder1(4))"
   ]
  },
  {
   "cell_type": "code",
   "execution_count": 15,
   "id": "f208e7ab-705a-4d5a-a71c-02ce829c0202",
   "metadata": {},
   "outputs": [
    {
     "name": "stdout",
     "output_type": "stream",
     "text": [
      "3\n"
     ]
    }
   ],
   "source": [
    "print(adder2(3))"
   ]
  },
  {
   "cell_type": "code",
   "execution_count": 16,
   "id": "079e8e38-5b9f-4e44-bba8-0a009e683c1c",
   "metadata": {},
   "outputs": [
    {
     "name": "stdout",
     "output_type": "stream",
     "text": [
      "10\n"
     ]
    }
   ],
   "source": [
    "print(adder2(7))"
   ]
  },
  {
   "cell_type": "code",
   "execution_count": 20,
   "id": "33474c18-6db5-42fa-b246-5dbdae975d57",
   "metadata": {},
   "outputs": [],
   "source": [
    "class Calculator:\n",
    "    def __init__(self):\n",
    "        self.result = 0\n",
    "    def adder(self, num):\n",
    "        self.result += num\n",
    "        return self.result"
   ]
  },
  {
   "cell_type": "code",
   "execution_count": 22,
   "id": "a1dc2398-0359-4b00-96e3-b88077f9d97e",
   "metadata": {},
   "outputs": [],
   "source": [
    "cal1 = Calculator()\n",
    "cal2 = Calculator()"
   ]
  },
  {
   "cell_type": "code",
   "execution_count": null,
   "id": "34f120e3-b13e-46c0-96b4-35fe5ab33bb8",
   "metadata": {},
   "outputs": [],
   "source": []
  },
  {
   "cell_type": "code",
   "execution_count": 23,
   "id": "51da18c0-0d49-48bb-9669-1cbc48d179b0",
   "metadata": {},
   "outputs": [
    {
     "name": "stdout",
     "output_type": "stream",
     "text": [
      "3\n"
     ]
    }
   ],
   "source": [
    "print(cal1.adder(3))"
   ]
  },
  {
   "cell_type": "code",
   "execution_count": 24,
   "id": "8042afe9-5ead-4f9b-a754-63f267bd9838",
   "metadata": {},
   "outputs": [
    {
     "name": "stdout",
     "output_type": "stream",
     "text": [
      "7\n"
     ]
    }
   ],
   "source": [
    "print(cal1.adder(4))"
   ]
  },
  {
   "cell_type": "code",
   "execution_count": 25,
   "id": "820bcb5f-5678-41ad-bb8e-f0ba0613f8ad",
   "metadata": {},
   "outputs": [
    {
     "name": "stdout",
     "output_type": "stream",
     "text": [
      "3\n"
     ]
    }
   ],
   "source": [
    "print(cal2.adder(3))"
   ]
  },
  {
   "cell_type": "code",
   "execution_count": 26,
   "id": "d16c73fe-13ea-426b-ab6c-f7fce7261eb6",
   "metadata": {},
   "outputs": [
    {
     "name": "stdout",
     "output_type": "stream",
     "text": [
      "10\n"
     ]
    }
   ],
   "source": [
    "print(cal2.adder(7))"
   ]
  },
  {
   "cell_type": "code",
   "execution_count": 27,
   "id": "8c6b10ce-a81d-42e6-a7fb-ded4e16088e6",
   "metadata": {},
   "outputs": [],
   "source": [
    "class Service:\n",
    "    secret = '지구는 4006년에 멸망한다.'"
   ]
  },
  {
   "cell_type": "code",
   "execution_count": 28,
   "id": "6377e538-1a69-48c2-9f38-cc8e62df538d",
   "metadata": {},
   "outputs": [],
   "source": [
    "an = Service()"
   ]
  },
  {
   "cell_type": "code",
   "execution_count": 29,
   "id": "d90abe7e-06c2-430e-875e-e4cf3aa59239",
   "metadata": {},
   "outputs": [
    {
     "data": {
      "text/plain": [
       "'지구는 4006년에 멸망한다.'"
      ]
     },
     "execution_count": 29,
     "metadata": {},
     "output_type": "execute_result"
    }
   ],
   "source": [
    "an.secret"
   ]
  },
  {
   "cell_type": "code",
   "execution_count": 30,
   "id": "344020e6-b7e8-4fbf-a10c-0d0f64212f33",
   "metadata": {},
   "outputs": [],
   "source": [
    "Service.secret = '지구가 4006년에 멸망한다는 사실은 뻥이다.'"
   ]
  },
  {
   "cell_type": "code",
   "execution_count": 31,
   "id": "c86fc0c1-4d11-4c0b-ba9a-41c774270d8f",
   "metadata": {},
   "outputs": [
    {
     "name": "stdout",
     "output_type": "stream",
     "text": [
      "지구가 4006년에 멸망한다는 사실은 뻥이다.\n"
     ]
    }
   ],
   "source": [
    "print(an. secret)"
   ]
  },
  {
   "cell_type": "code",
   "execution_count": 34,
   "id": "ec46726b-1a0c-4468-9cf6-19ac236a2fc7",
   "metadata": {},
   "outputs": [],
   "source": [
    "class Service:\n",
    "    secret = '지구는 4006년에 멸망한다.'\n",
    "    def sum(self, a, b):\n",
    "        result = a+b\n",
    "        print(\"%s + %s = %s이다.\" % (a, b, result))"
   ]
  },
  {
   "cell_type": "code",
   "execution_count": 36,
   "id": "06f963f4-6dc4-43a6-bf0f-d5128621e775",
   "metadata": {},
   "outputs": [],
   "source": [
    "an = Service()"
   ]
  },
  {
   "cell_type": "code",
   "execution_count": 37,
   "id": "80123ef8-d3da-4498-a1ac-42fcb8171ffb",
   "metadata": {},
   "outputs": [
    {
     "name": "stdout",
     "output_type": "stream",
     "text": [
      "1 + 1 = 2이다.\n"
     ]
    }
   ],
   "source": [
    "an.sum(1,1)"
   ]
  },
  {
   "cell_type": "code",
   "execution_count": 51,
   "id": "bcf7f878-9d6d-49ea-8431-42993f70885a",
   "metadata": {},
   "outputs": [],
   "source": [
    "class Service:\n",
    "    secret = '지구는 4006년에 멸망한다'\n",
    "    def setname(self, name):\n",
    "        self.name = name\n",
    "    def sum(self, a, b):\n",
    "        result = a + b\n",
    "        print(\"%s님, %s + %s = %s입니다.\" % (self.name, a, b, result))"
   ]
  },
  {
   "cell_type": "code",
   "execution_count": 52,
   "id": "9033a496-4afe-4c64-a248-d30ba0b7d3b6",
   "metadata": {},
   "outputs": [],
   "source": [
    "an = Service()"
   ]
  },
  {
   "cell_type": "code",
   "execution_count": 53,
   "id": "a547e906-9f72-4c1d-a555-67a39ce63e44",
   "metadata": {},
   "outputs": [],
   "source": [
    "an.setname(\"박달도사\")"
   ]
  },
  {
   "cell_type": "code",
   "execution_count": 54,
   "id": "dd337365-db32-4828-b09a-d055459fcb04",
   "metadata": {},
   "outputs": [
    {
     "name": "stdout",
     "output_type": "stream",
     "text": [
      "박달도사님, 1 + 1 = 2입니다.\n"
     ]
    }
   ],
   "source": [
    "an.sum(1,1)"
   ]
  },
  {
   "cell_type": "code",
   "execution_count": 55,
   "id": "f2e18e9d-c5c1-438c-a7fd-af288ba55c55",
   "metadata": {},
   "outputs": [],
   "source": [
    "class Service:\n",
    "    secret = '지구는 4006년에 멸망한다'\n",
    "    def __init__(self, name):\n",
    "        self.name = name\n",
    "    def sum(self, a, b):\n",
    "        result = a + b\n",
    "        print(\"%s님, %s + %s = %s입니다.\" % (self.name, a, b, result))"
   ]
  },
  {
   "cell_type": "code",
   "execution_count": 56,
   "id": "376b3ac7-ad58-499b-8a63-1cb1539508ac",
   "metadata": {},
   "outputs": [],
   "source": [
    "an = Service(\"샐리\")"
   ]
  },
  {
   "cell_type": "code",
   "execution_count": 57,
   "id": "b66bdba5-cb0e-49af-8204-de871652307f",
   "metadata": {},
   "outputs": [
    {
     "name": "stdout",
     "output_type": "stream",
     "text": [
      "샐리님, 1 + 3 = 4입니다.\n"
     ]
    }
   ],
   "source": [
    "an.sum(1,3)"
   ]
  },
  {
   "cell_type": "code",
   "execution_count": 58,
   "id": "c123f0c9-2dcb-4083-882b-cf2ca7be13a6",
   "metadata": {},
   "outputs": [],
   "source": [
    "class FourCal:\n",
    "    pass"
   ]
  },
  {
   "cell_type": "code",
   "execution_count": 59,
   "id": "697aa5e3-9e18-405d-b9d3-08c39d28db50",
   "metadata": {},
   "outputs": [],
   "source": [
    "a = FourCal()"
   ]
  },
  {
   "cell_type": "code",
   "execution_count": 60,
   "id": "ff5f13b5-d89d-4829-bbd7-ab23e5615da1",
   "metadata": {},
   "outputs": [
    {
     "data": {
      "text/plain": [
       "__main__.FourCal"
      ]
     },
     "execution_count": 60,
     "metadata": {},
     "output_type": "execute_result"
    }
   ],
   "source": [
    "type(a)"
   ]
  },
  {
   "cell_type": "code",
   "execution_count": 62,
   "id": "07f1d275-3a56-405d-b8ce-5538854312de",
   "metadata": {},
   "outputs": [],
   "source": [
    "class Fourcal:\n",
    "    def setdata(self, first, second):\n",
    "        self.first = first\n",
    "        self.second = second"
   ]
  },
  {
   "cell_type": "code",
   "execution_count": 66,
   "id": "2faca27c-0a0d-4cf9-8f47-023269f46730",
   "metadata": {},
   "outputs": [],
   "source": [
    "a = Fourcal()"
   ]
  },
  {
   "cell_type": "code",
   "execution_count": 67,
   "id": "41a0d62f-29e0-421a-b7f2-6200d1558b2f",
   "metadata": {},
   "outputs": [],
   "source": [
    "a.setdata(4,2)"
   ]
  },
  {
   "cell_type": "code",
   "execution_count": 68,
   "id": "1cd68f66-6f91-4516-9dde-a0e23d1627dc",
   "metadata": {},
   "outputs": [
    {
     "name": "stdout",
     "output_type": "stream",
     "text": [
      "4\n"
     ]
    }
   ],
   "source": [
    "print(a.first)"
   ]
  },
  {
   "cell_type": "code",
   "execution_count": 69,
   "id": "1b952f31-3a07-431e-b571-fce6a86af59c",
   "metadata": {},
   "outputs": [
    {
     "name": "stdout",
     "output_type": "stream",
     "text": [
      "2\n"
     ]
    }
   ],
   "source": [
    "print(a.second)"
   ]
  },
  {
   "cell_type": "code",
   "execution_count": 70,
   "id": "192acfb4-4edd-416c-8a65-0d47c95f15af",
   "metadata": {},
   "outputs": [],
   "source": [
    "class Fourcal:\n",
    "    def setdata(self, first, second):\n",
    "        self.first = first\n",
    "        self.second = second\n",
    "    def sum(self):\n",
    "        result = self.first + self.second\n",
    "        return result"
   ]
  },
  {
   "cell_type": "code",
   "execution_count": 71,
   "id": "fec2be8c-f2df-4703-9c29-1d558870575c",
   "metadata": {},
   "outputs": [],
   "source": [
    "a = Fourcal()"
   ]
  },
  {
   "cell_type": "code",
   "execution_count": 72,
   "id": "b08d279f-40a1-4b62-8cda-597ee66bc495",
   "metadata": {},
   "outputs": [],
   "source": [
    "a.setdata(4,2)"
   ]
  },
  {
   "cell_type": "code",
   "execution_count": 73,
   "id": "41033ccb-413a-4527-993b-8eb47ef43a23",
   "metadata": {},
   "outputs": [
    {
     "name": "stdout",
     "output_type": "stream",
     "text": [
      "6\n"
     ]
    }
   ],
   "source": [
    "print(a.sum())"
   ]
  },
  {
   "cell_type": "code",
   "execution_count": 81,
   "id": "9e7436f7-08fe-4bcb-9ccd-b07a02ad8f58",
   "metadata": {},
   "outputs": [],
   "source": [
    "class Fourcal:\n",
    "    def setdata(self, first, second):\n",
    "        self.first = first\n",
    "        self.second = second\n",
    "\n",
    "    def sum(self):\n",
    "        result = self.first + self.second\n",
    "        return result\n",
    "\n",
    "    def mul(self):\n",
    "        result = self.first * self.second\n",
    "        return result\n",
    "\n",
    "    def sub(self):\n",
    "        result = self.first - self.second\n",
    "        return result\n",
    "\n",
    "    def div(self):\n",
    "        result = self.first / self.second\n",
    "        return result"
   ]
  },
  {
   "cell_type": "code",
   "execution_count": 82,
   "id": "98a07de2-a84e-47b0-9b7d-c0a08c80295e",
   "metadata": {},
   "outputs": [],
   "source": [
    "a = Fourcal()"
   ]
  },
  {
   "cell_type": "code",
   "execution_count": 83,
   "id": "35ad4731-04b9-49ac-bc90-cfd4d0e7be83",
   "metadata": {},
   "outputs": [],
   "source": [
    "b = Fourcal()"
   ]
  },
  {
   "cell_type": "code",
   "execution_count": 84,
   "id": "fdd377c6-bef5-4a9a-a47a-6e979f7ed690",
   "metadata": {},
   "outputs": [],
   "source": [
    "a.setdata(4,2)"
   ]
  },
  {
   "cell_type": "code",
   "execution_count": 85,
   "id": "2d7dc656-95be-4044-bcb5-b5d5a7ddaa49",
   "metadata": {},
   "outputs": [],
   "source": [
    "b.setdata(3,7)"
   ]
  },
  {
   "cell_type": "code",
   "execution_count": 86,
   "id": "094962a1-e280-4999-963d-ee08a6051422",
   "metadata": {},
   "outputs": [
    {
     "data": {
      "text/plain": [
       "6"
      ]
     },
     "execution_count": 86,
     "metadata": {},
     "output_type": "execute_result"
    }
   ],
   "source": [
    "a.sum()"
   ]
  },
  {
   "cell_type": "code",
   "execution_count": 87,
   "id": "e145d5ae-7576-453b-8ac6-573ccb18b676",
   "metadata": {},
   "outputs": [
    {
     "data": {
      "text/plain": [
       "8"
      ]
     },
     "execution_count": 87,
     "metadata": {},
     "output_type": "execute_result"
    }
   ],
   "source": [
    "a.mul()"
   ]
  },
  {
   "cell_type": "code",
   "execution_count": 88,
   "id": "da60e731-d360-4e2b-86e2-6ced96bdc067",
   "metadata": {},
   "outputs": [
    {
     "data": {
      "text/plain": [
       "2"
      ]
     },
     "execution_count": 88,
     "metadata": {},
     "output_type": "execute_result"
    }
   ],
   "source": [
    "a.sub()"
   ]
  },
  {
   "cell_type": "code",
   "execution_count": 89,
   "id": "ded320b9-edb5-48d3-88c9-d1918016f33c",
   "metadata": {},
   "outputs": [
    {
     "data": {
      "text/plain": [
       "2.0"
      ]
     },
     "execution_count": 89,
     "metadata": {},
     "output_type": "execute_result"
    }
   ],
   "source": [
    "a.div()"
   ]
  },
  {
   "cell_type": "code",
   "execution_count": 90,
   "id": "3c95345a-794c-4b51-a7f4-e652c4fd5af2",
   "metadata": {},
   "outputs": [
    {
     "data": {
      "text/plain": [
       "-4"
      ]
     },
     "execution_count": 90,
     "metadata": {},
     "output_type": "execute_result"
    }
   ],
   "source": [
    "b.sub()"
   ]
  },
  {
   "cell_type": "code",
   "execution_count": 92,
   "id": "f258de5c-c52f-4ea4-86d0-c3150ba42d48",
   "metadata": {},
   "outputs": [],
   "source": [
    "import random\n",
    "\n",
    "player1_dice = []\n",
    "player2_dice = []"
   ]
  },
  {
   "cell_type": "code",
   "execution_count": 94,
   "id": "84621b40-e28c-4378-8b05-47d9f77bfe8b",
   "metadata": {},
   "outputs": [],
   "source": [
    "for i in range(3):\n",
    "    player1_dice.append(random.randint(1, 6))\n",
    "    player2_dice.append(random.randint(1, 6))"
   ]
  },
  {
   "cell_type": "code",
   "execution_count": 95,
   "id": "7b4f3de7-aea2-4d6b-9c2a-7948697429e1",
   "metadata": {},
   "outputs": [
    {
     "name": "stdout",
     "output_type": "stream",
     "text": [
      "Player 1 rolled[1, 6, 2]\n"
     ]
    }
   ],
   "source": [
    "print(\"Player 1 rolled\" + str(player1_dice))"
   ]
  },
  {
   "cell_type": "code",
   "execution_count": 96,
   "id": "038c0b5c-f659-4caf-ab78-142132cd8804",
   "metadata": {},
   "outputs": [
    {
     "name": "stdout",
     "output_type": "stream",
     "text": [
      "Player 2 rolled[1, 5, 1]\n"
     ]
    }
   ],
   "source": [
    "print(\"Player 2 rolled\" + str(player2_dice))"
   ]
  },
  {
   "cell_type": "code",
   "execution_count": 97,
   "id": "c75aa4ec-46ea-42a2-a4b6-fd5f96a1777e",
   "metadata": {},
   "outputs": [
    {
     "name": "stdout",
     "output_type": "stream",
     "text": [
      "Player 1 wins\n"
     ]
    }
   ],
   "source": [
    "if sum(player1_dice) == sum(player2_dice):\n",
    "    print(\"Draw\")\n",
    "elif sum(player1_dice) > sum(player2_dice):\n",
    "    print(\"Player 1 wins\")\n",
    "else:\n",
    "    print(\"Player 2 wins\")"
   ]
  },
  {
   "cell_type": "code",
   "execution_count": 99,
   "id": "79d0f295-ddeb-439e-9137-531f6e8003c6",
   "metadata": {},
   "outputs": [],
   "source": [
    "from random import randint"
   ]
  },
  {
   "cell_type": "code",
   "execution_count": 100,
   "id": "44dcd1da-6fee-487d-af66-d1799a272349",
   "metadata": {},
   "outputs": [],
   "source": [
    "class Player:\n",
    "    def __init__(self):\n",
    "        self.dice = []\n",
    "\n",
    "    def roll(self):\n",
    "        self.dice = []\n",
    "        for i in range(3):\n",
    "            self.dice.append(randint(1,6))\n",
    "\n",
    "    def get_dice(self):\n",
    "        return self.dice"
   ]
  },
  {
   "cell_type": "code",
   "execution_count": 101,
   "id": "55cf8351-0231-462e-b751-51670256472b",
   "metadata": {},
   "outputs": [],
   "source": [
    "player1 = Player()"
   ]
  },
  {
   "cell_type": "code",
   "execution_count": 102,
   "id": "99fa4107-b730-4e9f-9e00-52292116d29e",
   "metadata": {},
   "outputs": [],
   "source": [
    "player2 = Player()"
   ]
  },
  {
   "cell_type": "code",
   "execution_count": 103,
   "id": "1fa5dfd0-83cd-4fa9-97cc-7ce082beac34",
   "metadata": {},
   "outputs": [],
   "source": [
    "player1.roll()"
   ]
  },
  {
   "cell_type": "code",
   "execution_count": 104,
   "id": "ee9ace28-05a8-42e6-966f-363d24fe68b4",
   "metadata": {},
   "outputs": [],
   "source": [
    "player2.roll()"
   ]
  },
  {
   "cell_type": "code",
   "execution_count": 105,
   "id": "3ebb8235-1367-435f-8173-eaf927086b21",
   "metadata": {},
   "outputs": [
    {
     "name": "stdout",
     "output_type": "stream",
     "text": [
      "Player 1 rolled[4, 6, 6]\n",
      "Player 2 rolled[2, 2, 4]\n"
     ]
    }
   ],
   "source": [
    "print(\"Player 1 rolled\" + str(player1.get_dice()))\n",
    "print(\"Player 2 rolled\" + str(player2.get_dice()))"
   ]
  },
  {
   "cell_type": "code",
   "execution_count": 106,
   "id": "31f83618-cfda-40ac-82fb-44e792747b3b",
   "metadata": {},
   "outputs": [
    {
     "name": "stdout",
     "output_type": "stream",
     "text": [
      "Player 1 wins!\n"
     ]
    }
   ],
   "source": [
    "if sum(player1.get_dice()) == sum(player2.get_dice()):\n",
    "    print(\"Draw!\")\n",
    "elif sum(player1.get_dice()) > sum(player2.get_dice()):\n",
    "    print(\"Player 1 wins!\")\n",
    "else:\n",
    "    print(\"Player 2 wins!\")"
   ]
  },
  {
   "cell_type": "code",
   "execution_count": null,
   "id": "e10b305d-0731-4194-b434-d0d90ae0b9ac",
   "metadata": {},
   "outputs": [],
   "source": []
  }
 ],
 "metadata": {
  "kernelspec": {
   "display_name": "Python 3 (ipykernel)",
   "language": "python",
   "name": "python3"
  },
  "language_info": {
   "codemirror_mode": {
    "name": "ipython",
    "version": 3
   },
   "file_extension": ".py",
   "mimetype": "text/x-python",
   "name": "python",
   "nbconvert_exporter": "python",
   "pygments_lexer": "ipython3",
   "version": "3.13.2"
  }
 },
 "nbformat": 4,
 "nbformat_minor": 5
}
