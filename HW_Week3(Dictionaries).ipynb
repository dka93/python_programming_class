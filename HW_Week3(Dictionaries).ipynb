{
 "cells": [
  {
   "cell_type": "markdown",
   "id": "cb72c7bb-1c89-4e07-b402-d96e79bb3251",
   "metadata": {},
   "source": [
    "## Quiz on Dictionaries"
   ]
  },
  {
   "cell_type": "code",
   "execution_count": 6,
   "id": "9cfd31f5-eccf-4cf7-bb37-9c8fd904dc89",
   "metadata": {},
   "outputs": [
    {
     "data": {
      "text/plain": [
       "{'The BodyGuard': '1992', 'Saturday Night Fever': '1977'}"
      ]
     },
     "execution_count": 6,
     "metadata": {},
     "output_type": "execute_result"
    }
   ],
   "source": [
    "soundtrack_dict = {\"The BodyGuard\" : \"1992\", \"Saturday Night Fever\" : \"1977\"}\n",
    "soundtrack_dict"
   ]
  },
  {
   "cell_type": "markdown",
   "id": "f7e88b4b-025e-49ab-a485-30563fa7d7fe",
   "metadata": {},
   "source": [
    "#### a) In the dictionary soundtrack_dict what are the keys?"
   ]
  },
  {
   "cell_type": "code",
   "execution_count": 7,
   "id": "a71ad52c-7552-42e0-9bbb-e119f9a813cd",
   "metadata": {},
   "outputs": [
    {
     "data": {
      "text/plain": [
       "dict_keys(['The BodyGuard', 'Saturday Night Fever'])"
      ]
     },
     "execution_count": 7,
     "metadata": {},
     "output_type": "execute_result"
    }
   ],
   "source": [
    "soundtrack_dict.keys()"
   ]
  },
  {
   "cell_type": "markdown",
   "id": "d8eef481-c154-4230-afd3-0bebcfcf72ff",
   "metadata": {},
   "source": [
    "#### b) In the dictionary soundtrack_dict what are the values?"
   ]
  },
  {
   "cell_type": "code",
   "execution_count": 8,
   "id": "6af23c02-1106-4cf2-a80d-0f30b6972007",
   "metadata": {},
   "outputs": [
    {
     "data": {
      "text/plain": [
       "dict_values(['1992', '1977'])"
      ]
     },
     "execution_count": 8,
     "metadata": {},
     "output_type": "execute_result"
    }
   ],
   "source": [
    "soundtrack_dict.values()"
   ]
  },
  {
   "cell_type": "markdown",
   "id": "6f7951a6-9d09-4bad-b917-7bdc7c33deb5",
   "metadata": {},
   "source": []
  },
  {
   "cell_type": "markdown",
   "id": "b8b381fc-e3fc-40c6-9b4e-3ab32dea5254",
   "metadata": {},
   "source": [
    "The Albums Back in Black, The Bodyguard and Thriller have the following music recording sales in millions 50, 50 and 65 respectively:"
   ]
  },
  {
   "cell_type": "markdown",
   "id": "1ba09bde-bd7b-427a-8f7c-18982a12c7e4",
   "metadata": {},
   "source": [
    "#### a) Create a dictionary album_sales_dict where the keys are the album name and the sales in millions are the values."
   ]
  },
  {
   "cell_type": "code",
   "execution_count": 10,
   "id": "bd442a46-2873-4973-820f-0af1885bb57c",
   "metadata": {},
   "outputs": [
    {
     "data": {
      "text/plain": [
       "{'Back in Black': 50, 'The Bodyguard': 50, 'Thriller': 65}"
      ]
     },
     "execution_count": 10,
     "metadata": {},
     "output_type": "execute_result"
    }
   ],
   "source": [
    "album_sales_dict = {\"Back in Black\" : 50, \"The Bodyguard\" : 50, \"Thriller\" : 65}\n",
    "album_sales_dict"
   ]
  },
  {
   "cell_type": "markdown",
   "id": "0b7709ae-06ca-48fd-9c51-aba7600ebecf",
   "metadata": {},
   "source": [
    "#### b) Use the dictionary to find the total sales of Thriller:"
   ]
  },
  {
   "cell_type": "code",
   "execution_count": 11,
   "id": "b971791f-64a1-430b-871b-7ced743c8fb1",
   "metadata": {},
   "outputs": [
    {
     "data": {
      "text/plain": [
       "65"
      ]
     },
     "execution_count": 11,
     "metadata": {},
     "output_type": "execute_result"
    }
   ],
   "source": [
    "album_sales_dict[\"Thriller\"]"
   ]
  },
  {
   "cell_type": "markdown",
   "id": "66ea181b-61bb-47a8-8fc0-e56b3a49e49c",
   "metadata": {},
   "source": [
    "#### c) Find the names of the albums from the dictionary using the method keys:"
   ]
  },
  {
   "cell_type": "code",
   "execution_count": 12,
   "id": "cb1696c0-4265-4f08-a95d-f4e6edff05f2",
   "metadata": {},
   "outputs": [
    {
     "data": {
      "text/plain": [
       "dict_keys(['Back in Black', 'The Bodyguard', 'Thriller'])"
      ]
     },
     "execution_count": 12,
     "metadata": {},
     "output_type": "execute_result"
    }
   ],
   "source": [
    "album_sales_dict.keys()"
   ]
  },
  {
   "cell_type": "markdown",
   "id": "2007838a-5991-43ab-9d52-1a1f3f61a688",
   "metadata": {},
   "source": [
    "#### d) Find the names of the recording sales from the dictionary using the method values:"
   ]
  },
  {
   "cell_type": "code",
   "execution_count": 13,
   "id": "c0bf9d30-e7ab-417d-a24a-4011b8ae22a5",
   "metadata": {},
   "outputs": [
    {
     "data": {
      "text/plain": [
       "dict_values([50, 50, 65])"
      ]
     },
     "execution_count": 13,
     "metadata": {},
     "output_type": "execute_result"
    }
   ],
   "source": [
    "album_sales_dict.values()"
   ]
  }
 ],
 "metadata": {
  "kernelspec": {
   "display_name": "Python 3 (ipykernel)",
   "language": "python",
   "name": "python3"
  },
  "language_info": {
   "codemirror_mode": {
    "name": "ipython",
    "version": 3
   },
   "file_extension": ".py",
   "mimetype": "text/x-python",
   "name": "python",
   "nbconvert_exporter": "python",
   "pygments_lexer": "ipython3",
   "version": "3.13.2"
  }
 },
 "nbformat": 4,
 "nbformat_minor": 5
}
