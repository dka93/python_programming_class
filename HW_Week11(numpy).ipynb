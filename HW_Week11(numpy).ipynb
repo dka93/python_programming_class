{
 "cells": [
  {
   "cell_type": "code",
   "execution_count": 1,
   "id": "a38d9446-f81b-4aaa-96a4-244ee99d11db",
   "metadata": {},
   "outputs": [],
   "source": [
    "import numpy as np"
   ]
  },
  {
   "cell_type": "code",
   "execution_count": 3,
   "id": "e7ce88b8-c2aa-4931-9625-d7a4e713b1de",
   "metadata": {},
   "outputs": [
    {
     "name": "stdout",
     "output_type": "stream",
     "text": [
      "a: [1 2 3]\n"
     ]
    }
   ],
   "source": [
    "a = np.array([1, 2, 3])\n",
    "print(\"a:\", a)"
   ]
  },
  {
   "cell_type": "code",
   "execution_count": 4,
   "id": "30a73bc6-f652-40f9-8944-53a67ffd86f9",
   "metadata": {},
   "outputs": [
    {
     "name": "stdout",
     "output_type": "stream",
     "text": [
      "a with dtype: [1 2 3]\n"
     ]
    }
   ],
   "source": [
    "a = np.array([1, 2, 3], dtype=np.int32)\n",
    "print(\"a with dtype:\", a)"
   ]
  },
  {
   "cell_type": "code",
   "execution_count": 5,
   "id": "8cf0d22f-a405-48b5-bbb1-a24160b62345",
   "metadata": {},
   "outputs": [
    {
     "name": "stdout",
     "output_type": "stream",
     "text": [
      "b: [[1.5 2.3]\n",
      " [3.1 4.7]]\n"
     ]
    }
   ],
   "source": [
    "b = np.array([[1.5, 2.3], [3.1, 4.7]])\n",
    "print(\"b:\", b)"
   ]
  },
  {
   "cell_type": "code",
   "execution_count": 6,
   "id": "b813f6c7-6116-451c-ae6b-e3ea1a738a2e",
   "metadata": {},
   "outputs": [
    {
     "name": "stdout",
     "output_type": "stream",
     "text": [
      "b.ndim (number of dimensions): 2\n",
      "b.shape (dimensions): (2, 2)\n",
      "b.size (total elements): 4\n",
      "b.dtype (data type): float64\n"
     ]
    }
   ],
   "source": [
    "print(\"b.ndim (number of dimensions):\", b.ndim)\n",
    "print(\"b.shape (dimensions):\", b.shape)\n",
    "print(\"b.size (total elements):\", b.size)\n",
    "print(\"b.dtype (data type):\", b.dtype)"
   ]
  },
  {
   "cell_type": "code",
   "execution_count": 7,
   "id": "6421cfd7-c86b-4dfa-94b3-74015d2d5c15",
   "metadata": {},
   "outputs": [
    {
     "name": "stdout",
     "output_type": "stream",
     "text": [
      "data[0]: 1\n",
      "data[1:4]: [2 3 4]\n",
      "data[:2]: [1 2]\n",
      "data[::2]: [1 3 5]\n"
     ]
    }
   ],
   "source": [
    "data = np.array([1, 2, 3, 4, 5, 6])\n",
    "print(\"data[0]:\", data[0])\n",
    "print(\"data[1:4]:\", data[1:4])\n",
    "print(\"data[:2]:\", data[:2])\n",
    "print(\"data[::2]:\", data[::2])"
   ]
  },
  {
   "cell_type": "code",
   "execution_count": 8,
   "id": "8dacece0-eb9b-4742-9faa-69b10f9b02f1",
   "metadata": {},
   "outputs": [
    {
     "name": "stdout",
     "output_type": "stream",
     "text": [
      "data2D[1, 1]: 4\n",
      "data2D[0:2, 0]: [1 3]\n"
     ]
    }
   ],
   "source": [
    "data2D = np.array([[1, 2], [3, 4], [5, 6]])\n",
    "print(\"data2D[1, 1]:\", data2D[1, 1])\n",
    "print(\"data2D[0:2, 0]:\", data2D[0:2, 0])"
   ]
  },
  {
   "cell_type": "code",
   "execution_count": 9,
   "id": "08af4115-fac4-48c3-8236-7ca7e4d760fb",
   "metadata": {},
   "outputs": [],
   "source": [
    "a = np.array([1, 2, 3])\n",
    "b = np.array([4, 5, 6])"
   ]
  },
  {
   "cell_type": "code",
   "execution_count": 10,
   "id": "09faec48-87d0-4277-9b0a-4a75219a54ca",
   "metadata": {},
   "outputs": [
    {
     "name": "stdout",
     "output_type": "stream",
     "text": [
      "a + b: [5 7 9]\n",
      "a * b: [ 4 10 18]\n",
      "a ** 2: [1 4 9]\n",
      "np.sqrt(a): [1.         1.41421356 1.73205081]\n",
      "np.exp(a): [ 2.71828183  7.3890561  20.08553692]\n",
      "np.mean(a): 2.0\n"
     ]
    }
   ],
   "source": [
    "print(\"a + b:\", a + b)\n",
    "print(\"a * b:\", a * b)\n",
    "print(\"a ** 2:\", a ** 2)\n",
    "print(\"np.sqrt(a):\", np.sqrt(a))\n",
    "print(\"np.exp(a):\", np.exp(a))\n",
    "print(\"np.mean(a):\", np.mean(a))"
   ]
  },
  {
   "cell_type": "code",
   "execution_count": 11,
   "id": "0693ca7d-e514-4911-85fb-572b3f1f0013",
   "metadata": {},
   "outputs": [
    {
     "name": "stdout",
     "output_type": "stream",
     "text": [
      "data * 2.0: [2. 4.]\n"
     ]
    }
   ],
   "source": [
    "data = np.array([1.0, 2.0])\n",
    "print(\"data * 2.0:\", data * 2.0)"
   ]
  },
  {
   "cell_type": "code",
   "execution_count": 12,
   "id": "0f102556-fc2e-45b3-a744-8dbdba642ee2",
   "metadata": {},
   "outputs": [
    {
     "name": "stdout",
     "output_type": "stream",
     "text": [
      "ones:\n",
      " [[1. 1. 1.]\n",
      " [1. 1. 1.]]\n"
     ]
    }
   ],
   "source": [
    "ones = np.ones((2, 3))\n",
    "print(\"ones:\\n\", ones)"
   ]
  },
  {
   "cell_type": "code",
   "execution_count": 13,
   "id": "0ac9a70d-1653-412b-a57d-0b40f0923055",
   "metadata": {},
   "outputs": [
    {
     "name": "stdout",
     "output_type": "stream",
     "text": [
      "data + ones:\n",
      " [[2. 2. 2.]\n",
      " [3. 3. 3.]]\n"
     ]
    }
   ],
   "source": [
    "data = np.array([[1.0], [2.0]])\n",
    "print(\"data + ones:\\n\", data + ones)"
   ]
  },
  {
   "cell_type": "code",
   "execution_count": 14,
   "id": "fa3bedc9-160c-49c1-9971-8f91c6a348a1",
   "metadata": {},
   "outputs": [
    {
     "name": "stdout",
     "output_type": "stream",
     "text": [
      "data.sum(): 10\n",
      "data.max(): 4\n",
      "data.min(): 1\n",
      "data.sum(axis=0): [4 6]\n",
      "data.sum(axis=1): [3 7]\n"
     ]
    }
   ],
   "source": [
    "data = np.array([[1, 2], [3, 4]])\n",
    "print(\"data.sum():\", data.sum())\n",
    "print(\"data.max():\", data.max())\n",
    "print(\"data.min():\", data.min())\n",
    "print(\"data.sum(axis=0):\", data.sum(axis=0))\n",
    "print(\"data.sum(axis=1):\", data.sum(axis=1))"
   ]
  },
  {
   "cell_type": "code",
   "execution_count": 15,
   "id": "dead97be-c7c0-43f5-9608-b9367f147299",
   "metadata": {},
   "outputs": [
    {
     "name": "stdout",
     "output_type": "stream",
     "text": [
      "Original shape: (3, 2)\n"
     ]
    }
   ],
   "source": [
    "data = np.array([[1, 2], [3, 4], [5, 6]])\n",
    "print(\"Original shape:\", data.shape)"
   ]
  },
  {
   "cell_type": "code",
   "execution_count": 16,
   "id": "3ea2bda1-102f-4a3a-8735-aefa9e4be74e",
   "metadata": {},
   "outputs": [
    {
     "name": "stdout",
     "output_type": "stream",
     "text": [
      "Reshaped to (2,3):\n",
      " [[1 2 3]\n",
      " [4 5 6]]\n"
     ]
    }
   ],
   "source": [
    "reshaped = data.reshape(2, 3)\n",
    "print(\"Reshaped to (2,3):\\n\", reshaped)"
   ]
  },
  {
   "cell_type": "code",
   "execution_count": 17,
   "id": "4ab4ad83-8503-49a6-a700-cdfc5eddd055",
   "metadata": {},
   "outputs": [
    {
     "name": "stdout",
     "output_type": "stream",
     "text": [
      "Flattened:\n",
      " [1 2 3 4 5 6]\n"
     ]
    }
   ],
   "source": [
    "flattened = data.flatten()\n",
    "print(\"Flattened:\\n\", flattened)"
   ]
  },
  {
   "cell_type": "code",
   "execution_count": 18,
   "id": "b5738617-c35b-49ad-9f50-1300a9eac863",
   "metadata": {},
   "outputs": [
    {
     "name": "stdout",
     "output_type": "stream",
     "text": [
      "Raveled (view):\n",
      " [1 2 3 4 5 6]\n"
     ]
    }
   ],
   "source": [
    "raveled = data.ravel()\n",
    "print(\"Raveled (view):\\n\", raveled)"
   ]
  },
  {
   "cell_type": "code",
   "execution_count": null,
   "id": "b11622c6-6a97-46ec-88fd-7897e4c2386c",
   "metadata": {},
   "outputs": [],
   "source": []
  }
 ],
 "metadata": {
  "kernelspec": {
   "display_name": "Python 3 (ipykernel)",
   "language": "python",
   "name": "python3"
  },
  "language_info": {
   "codemirror_mode": {
    "name": "ipython",
    "version": 3
   },
   "file_extension": ".py",
   "mimetype": "text/x-python",
   "name": "python",
   "nbconvert_exporter": "python",
   "pygments_lexer": "ipython3",
   "version": "3.13.2"
  }
 },
 "nbformat": 4,
 "nbformat_minor": 5
}
