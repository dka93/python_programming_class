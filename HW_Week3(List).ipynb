{
 "cells": [
  {
   "cell_type": "markdown",
   "id": "564cdf46-ef85-48ac-a53d-c78c327ee9c6",
   "metadata": {},
   "source": [
    "## Quiz on List"
   ]
  },
  {
   "cell_type": "markdown",
   "id": "4bd1ea0a-1e43-4fcb-ab77-d0abe09ff6dc",
   "metadata": {},
   "source": [
    "#### Create a list 'a_list', with the following elements 1, hello, [1, 2, 3] and True."
   ]
  },
  {
   "cell_type": "code",
   "execution_count": 3,
   "id": "6b819bdf-4cd3-448b-b1ca-1389444826ff",
   "metadata": {},
   "outputs": [],
   "source": [
    "A_list = [1, \"hello\", [1, 2, 3], True]"
   ]
  },
  {
   "cell_type": "markdown",
   "id": "df63e7d9-5bfe-4bf5-b247-9e258c6638f0",
   "metadata": {},
   "source": [
    "#### Find the value stored at index 1 of A_list"
   ]
  },
  {
   "cell_type": "code",
   "execution_count": 4,
   "id": "27abe5dc-ff73-4a21-abbb-61d68a654b92",
   "metadata": {},
   "outputs": [
    {
     "data": {
      "text/plain": [
       "'hello'"
      ]
     },
     "execution_count": 4,
     "metadata": {},
     "output_type": "execute_result"
    }
   ],
   "source": [
    "A_list[1]"
   ]
  },
  {
   "cell_type": "markdown",
   "id": "de93b50b-cd45-43ac-9f44-445edd397da3",
   "metadata": {},
   "source": [
    "#### Retrieve the elements stored at index 1, 2 and 3 of A_list"
   ]
  },
  {
   "cell_type": "code",
   "execution_count": 5,
   "id": "4debfeeb-bdbe-4967-844c-53b17330d899",
   "metadata": {},
   "outputs": [
    {
     "data": {
      "text/plain": [
       "['hello', [1, 2, 3], True]"
      ]
     },
     "execution_count": 5,
     "metadata": {},
     "output_type": "execute_result"
    }
   ],
   "source": [
    "A_list[1:4]"
   ]
  },
  {
   "cell_type": "markdown",
   "id": "df2f5459-430a-4f7b-8220-71fe46818bd9",
   "metadata": {},
   "source": [
    "#### Concatenate the following lists A = [1, 'a'] and B = [2, 1, 'd']:"
   ]
  },
  {
   "cell_type": "code",
   "execution_count": 10,
   "id": "1b9696a3-f3c4-43a1-a278-2e9157d6aff9",
   "metadata": {},
   "outputs": [],
   "source": [
    "A = [1, \"a\"]\n",
    "B = [2, 1, \"d\"]"
   ]
  },
  {
   "cell_type": "code",
   "execution_count": 11,
   "id": "7d8b8731-aa81-4751-b983-8aab265559a5",
   "metadata": {},
   "outputs": [
    {
     "data": {
      "text/plain": [
       "[1, 'a', 2, 1, 'd']"
      ]
     },
     "execution_count": 11,
     "metadata": {},
     "output_type": "execute_result"
    }
   ],
   "source": [
    "A.extend(B)\n",
    "A"
   ]
  }
 ],
 "metadata": {
  "kernelspec": {
   "display_name": "Python 3 (ipykernel)",
   "language": "python",
   "name": "python3"
  },
  "language_info": {
   "codemirror_mode": {
    "name": "ipython",
    "version": 3
   },
   "file_extension": ".py",
   "mimetype": "text/x-python",
   "name": "python",
   "nbconvert_exporter": "python",
   "pygments_lexer": "ipython3",
   "version": "3.13.2"
  }
 },
 "nbformat": 4,
 "nbformat_minor": 5
}
