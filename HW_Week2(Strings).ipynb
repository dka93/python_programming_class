{
 "cells": [
  {
   "cell_type": "code",
   "execution_count": null,
   "id": "5df02e3d-65f3-4641-ba69-af0128c8efcf",
   "metadata": {},
   "outputs": [],
   "source": [
    "# 이름 : 손득하\n",
    "# 학번 : 2025152525\n",
    "# 과정 : 석사과정"
   ]
  },
  {
   "cell_type": "markdown",
   "id": "f0882f1d-4ed1-4a61-aeae-bf8afa520c35",
   "metadata": {},
   "source": [
    "## Exercise Strings 1"
   ]
  },
  {
   "cell_type": "code",
   "execution_count": 4,
   "id": "4c8a8b9c-310d-4e59-9f38-76c1bb8adeb8",
   "metadata": {},
   "outputs": [
    {
     "data": {
      "text/plain": [
       "'1'"
      ]
     },
     "execution_count": 4,
     "metadata": {},
     "output_type": "execute_result"
    }
   ],
   "source": [
    "A = \"1\"\n",
    "A"
   ]
  },
  {
   "cell_type": "code",
   "execution_count": 5,
   "id": "d26004ae-ab7f-4462-99b7-90a43f32e742",
   "metadata": {},
   "outputs": [
    {
     "data": {
      "text/plain": [
       "'2'"
      ]
     },
     "execution_count": 5,
     "metadata": {},
     "output_type": "execute_result"
    }
   ],
   "source": [
    "B = \"2\"\n",
    "B"
   ]
  },
  {
   "cell_type": "code",
   "execution_count": 6,
   "id": "c50189dc-f6ee-4eeb-b620-167e971e69cd",
   "metadata": {},
   "outputs": [
    {
     "data": {
      "text/plain": [
       "'12'"
      ]
     },
     "execution_count": 6,
     "metadata": {},
     "output_type": "execute_result"
    }
   ],
   "source": [
    "C = A+B\n",
    "C"
   ]
  },
  {
   "cell_type": "code",
   "execution_count": 7,
   "id": "3cb45588-6be4-42f3-aee2-442db19ec03d",
   "metadata": {},
   "outputs": [
    {
     "name": "stdout",
     "output_type": "stream",
     "text": [
      "E\n"
     ]
    }
   ],
   "source": [
    "D = \"ABCDEFG\"\n",
    "print(D[4])"
   ]
  },
  {
   "cell_type": "code",
   "execution_count": 8,
   "id": "5e81ee74-031d-477a-9330-90f9028c0b6e",
   "metadata": {},
   "outputs": [
    {
     "name": "stdout",
     "output_type": "stream",
     "text": [
      "correct\n"
     ]
    }
   ],
   "source": [
    "E = \"clocrkr1e1c1t\"\n",
    "print(E[::2])"
   ]
  },
  {
   "cell_type": "code",
   "execution_count": 10,
   "id": "5bdcc717-1484-4c92-a3fe-63f0647f8cb5",
   "metadata": {},
   "outputs": [
    {
     "name": "stdout",
     "output_type": "stream",
     "text": [
      "\\\n"
     ]
    }
   ],
   "source": [
    "print('\\\\')"
   ]
  },
  {
   "cell_type": "code",
   "execution_count": 15,
   "id": "6f879ecb-9169-45e6-a2a2-4005b82d596d",
   "metadata": {},
   "outputs": [
    {
     "name": "stdout",
     "output_type": "stream",
     "text": [
      " \\ \n"
     ]
    }
   ],
   "source": [
    "print(r\" \\ \")"
   ]
  },
  {
   "cell_type": "code",
   "execution_count": 17,
   "id": "333595f4-61ea-413e-aefa-45ecc44ccad3",
   "metadata": {},
   "outputs": [
    {
     "data": {
      "text/plain": [
       "'YOU ARE WRONG'"
      ]
     },
     "execution_count": 17,
     "metadata": {},
     "output_type": "execute_result"
    }
   ],
   "source": [
    "F = \"You are wrong\"\n",
    "F.upper()"
   ]
  },
  {
   "cell_type": "code",
   "execution_count": 18,
   "id": "87183f12-823e-4413-8ce2-c64dd05f6086",
   "metadata": {},
   "outputs": [
    {
     "data": {
      "text/plain": [
       "95"
      ]
     },
     "execution_count": 18,
     "metadata": {},
     "output_type": "execute_result"
    }
   ],
   "source": [
    "G = \"Mary had a little lamb Little lamb, little lamb Mary had a little lamb \\\n",
    "Its fleece was white as snow And everywhere that Mary went Mary went, Mary went \\\n",
    "Everywhere that Mary went The lamb was sure to go\"\n",
    "G.find(\"snow\")"
   ]
  },
  {
   "cell_type": "code",
   "execution_count": 20,
   "id": "63712cb3-43f4-4c3d-b6ff-3b23d7bfd5e2",
   "metadata": {},
   "outputs": [
    {
     "data": {
      "text/plain": [
       "'Bob had a little lamb Little lamb, little lamb Bob had a little lamb Its fleece was white as snow And everywhere that Bob went Bob went, Bob went Everywhere that Bob went The lamb was sure to go'"
      ]
     },
     "execution_count": 20,
     "metadata": {},
     "output_type": "execute_result"
    }
   ],
   "source": [
    "H = G.replace(\"Mary\" , \"Bob\")\n",
    "H"
   ]
  },
  {
   "cell_type": "code",
   "execution_count": 21,
   "id": "ae6f6039-b9de-4948-9fa5-e81cdc8bbbb4",
   "metadata": {},
   "outputs": [
    {
     "data": {
      "text/plain": [
       "'Bob had a little lamb Little lamb, little lamb Bob had a little lamb Its fleece was white as snow And everywhere that Bob went Bob went, Bob went Everywhere that Bob went The lamb was sure to go'"
      ]
     },
     "execution_count": 21,
     "metadata": {},
     "output_type": "execute_result"
    }
   ],
   "source": [
    "G.replace(\"Mary\" , \"Bob\")"
   ]
  }
 ],
 "metadata": {
  "kernelspec": {
   "display_name": "Python 3 (ipykernel)",
   "language": "python",
   "name": "python3"
  },
  "language_info": {
   "codemirror_mode": {
    "name": "ipython",
    "version": 3
   },
   "file_extension": ".py",
   "mimetype": "text/x-python",
   "name": "python",
   "nbconvert_exporter": "python",
   "pygments_lexer": "ipython3",
   "version": "3.13.2"
  }
 },
 "nbformat": 4,
 "nbformat_minor": 5
}
