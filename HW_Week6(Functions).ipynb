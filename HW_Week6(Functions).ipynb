{
 "cells": [
  {
   "cell_type": "markdown",
   "id": "463955ac-0093-4b20-ba62-4cdae8454d55",
   "metadata": {},
   "source": [
    "## Quiz on Functions"
   ]
  },
  {
   "cell_type": "markdown",
   "id": "bf6593af-c68f-472c-b0a3-8e7cdb518438",
   "metadata": {},
   "source": [
    "#### Come up with a function that divides the first input by the second input:"
   ]
  },
  {
   "cell_type": "code",
   "execution_count": 1,
   "id": "2766e47d-b465-47dc-b413-cc6f49de362c",
   "metadata": {},
   "outputs": [],
   "source": [
    "def div(a, b):\n",
    "    return(a/b)"
   ]
  },
  {
   "cell_type": "markdown",
   "id": "a2df5e51-1a43-4957-9d8a-c03454e9f0c0",
   "metadata": {},
   "source": [
    "#### Use the function con for the following question."
   ]
  },
  {
   "cell_type": "code",
   "execution_count": 2,
   "id": "93814d58-8e7f-4f19-82f1-836be8dd76b7",
   "metadata": {},
   "outputs": [],
   "source": [
    "def con(a, b):\n",
    "    return(a + b)"
   ]
  },
  {
   "cell_type": "markdown",
   "id": "13bf50fa-e652-42fb-9143-7202613f16ce",
   "metadata": {},
   "source": [
    "#### Can the con function we defined before be used to add to integers or strings?"
   ]
  },
  {
   "cell_type": "code",
   "execution_count": 3,
   "id": "deeac06c-d0f5-4245-9292-3298de1d669a",
   "metadata": {},
   "outputs": [
    {
     "ename": "SyntaxError",
     "evalue": "invalid syntax (3183279268.py, line 1)",
     "output_type": "error",
     "traceback": [
      "  \u001b[36mCell\u001b[39m\u001b[36m \u001b[39m\u001b[32mIn[3]\u001b[39m\u001b[32m, line 1\u001b[39m\n\u001b[31m    \u001b[39m\u001b[31myes, for example:\u001b[39m\n         ^\n\u001b[31mSyntaxError\u001b[39m\u001b[31m:\u001b[39m invalid syntax\n"
     ]
    }
   ],
   "source": [
    "yes, for example: \n",
    "con(2, 2)"
   ]
  }
 ],
 "metadata": {
  "kernelspec": {
   "display_name": "Python 3 (ipykernel)",
   "language": "python",
   "name": "python3"
  },
  "language_info": {
   "codemirror_mode": {
    "name": "ipython",
    "version": 3
   },
   "file_extension": ".py",
   "mimetype": "text/x-python",
   "name": "python",
   "nbconvert_exporter": "python",
   "pygments_lexer": "ipython3",
   "version": "3.13.2"
  }
 },
 "nbformat": 4,
 "nbformat_minor": 5
}
