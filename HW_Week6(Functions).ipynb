{
 "cells": [
  {
   "cell_type": "markdown",
   "id": "463955ac-0093-4b20-ba62-4cdae8454d55",
   "metadata": {},
   "source": [
    "## Quiz on Functions"
   ]
  },
  {
   "cell_type": "markdown",
   "id": "bf6593af-c68f-472c-b0a3-8e7cdb518438",
   "metadata": {},
   "source": [
    "#### Come up with a function that divides the first input by the second input:"
   ]
  },
  {
   "cell_type": "code",
   "execution_count": 5,
   "id": "2766e47d-b465-47dc-b413-cc6f49de362c",
   "metadata": {},
   "outputs": [],
   "source": [
    "def div(a, b):\n",
    "    return(a/b)"
   ]
  },
  {
   "cell_type": "code",
   "execution_count": 6,
   "id": "c032835a-16d1-49b8-98ca-27c2f18650e2",
   "metadata": {},
   "outputs": [
    {
     "data": {
      "text/plain": [
       "0.3333333333333333"
      ]
     },
     "execution_count": 6,
     "metadata": {},
     "output_type": "execute_result"
    }
   ],
   "source": [
    "div(2, 6)"
   ]
  },
  {
   "cell_type": "markdown",
   "id": "a2df5e51-1a43-4957-9d8a-c03454e9f0c0",
   "metadata": {},
   "source": [
    "#### Use the function con for the following question."
   ]
  },
  {
   "cell_type": "code",
   "execution_count": 2,
   "id": "93814d58-8e7f-4f19-82f1-836be8dd76b7",
   "metadata": {},
   "outputs": [],
   "source": [
    "def con(a, b):\n",
    "    return(a + b)"
   ]
  },
  {
   "cell_type": "markdown",
   "id": "13bf50fa-e652-42fb-9143-7202613f16ce",
   "metadata": {},
   "source": [
    "#### Can the con function we defined before be used to add to integers or strings?"
   ]
  },
  {
   "cell_type": "code",
   "execution_count": 4,
   "id": "deeac06c-d0f5-4245-9292-3298de1d669a",
   "metadata": {},
   "outputs": [
    {
     "data": {
      "text/plain": [
       "4"
      ]
     },
     "execution_count": 4,
     "metadata": {},
     "output_type": "execute_result"
    }
   ],
   "source": [
    "con(2, 2)"
   ]
  },
  {
   "cell_type": "markdown",
   "id": "1150bb2a-c1a8-49aa-97ab-9a9d9614ae6a",
   "metadata": {},
   "source": [
    "#### Can the con function we defined before be used to concentrate a list or tuple?"
   ]
  },
  {
   "cell_type": "code",
   "execution_count": 7,
   "id": "2d9863f4-f7bc-4cbb-854b-06c28dffef8f",
   "metadata": {},
   "outputs": [
    {
     "data": {
      "text/plain": [
       "['a', 1, 'b', 1]"
      ]
     },
     "execution_count": 7,
     "metadata": {},
     "output_type": "execute_result"
    }
   ],
   "source": [
    "con(['a', 1], ['b', 1])"
   ]
  }
 ],
 "metadata": {
  "kernelspec": {
   "display_name": "Python 3 (ipykernel)",
   "language": "python",
   "name": "python3"
  },
  "language_info": {
   "codemirror_mode": {
    "name": "ipython",
    "version": 3
   },
   "file_extension": ".py",
   "mimetype": "text/x-python",
   "name": "python",
   "nbconvert_exporter": "python",
   "pygments_lexer": "ipython3",
   "version": "3.13.2"
  }
 },
 "nbformat": 4,
 "nbformat_minor": 5
}
