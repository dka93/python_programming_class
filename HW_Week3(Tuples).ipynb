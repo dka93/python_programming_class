{
 "cells": [
  {
   "cell_type": "code",
   "execution_count": null,
   "id": "e359ee52-2155-408b-bc3b-60a90066aaf0",
   "metadata": {},
   "outputs": [],
   "source": []
  },
  {
   "cell_type": "markdown",
   "id": "d697382c-ebe4-4d1e-bfa7-df7c80124af7",
   "metadata": {},
   "source": [
    "## Quiz on Tuples"
   ]
  },
  {
   "cell_type": "code",
   "execution_count": 1,
   "id": "1a96ddce-b925-479e-89d5-0b6ca0976b7f",
   "metadata": {},
   "outputs": [
    {
     "data": {
      "text/plain": [
       "('pop',\n",
       " 'rock',\n",
       " 'soul',\n",
       " 'hard rock',\n",
       " 'soft rock',\n",
       " 'R&B',\n",
       " 'progressive rock',\n",
       " 'disco')"
      ]
     },
     "execution_count": 1,
     "metadata": {},
     "output_type": "execute_result"
    }
   ],
   "source": [
    "# Sample tuple\n",
    "\n",
    "genres_tuple = (\"pop\", \"rock\", \"soul\", \"hard rock\", \"soft rock\", \"R&B\", \"progressive rock\", \"disco\")\n",
    "genres_tuple"
   ]
  },
  {
   "cell_type": "code",
   "execution_count": 2,
   "id": "9c90620a-9817-4e5e-8092-303a82753e96",
   "metadata": {},
   "outputs": [
    {
     "data": {
      "text/plain": [
       "8"
      ]
     },
     "execution_count": 2,
     "metadata": {},
     "output_type": "execute_result"
    }
   ],
   "source": [
    "len(genres_tuple)"
   ]
  },
  {
   "cell_type": "markdown",
   "id": "6c4f3069-cec2-4754-b9c5-79cc33ea5a5c",
   "metadata": {},
   "source": [
    "#### Access the element, with respect to index 3"
   ]
  },
  {
   "cell_type": "code",
   "execution_count": 3,
   "id": "3a4f17a4-9b45-4650-b10e-ee2b4c5198fe",
   "metadata": {},
   "outputs": [
    {
     "data": {
      "text/plain": [
       "'hard rock'"
      ]
     },
     "execution_count": 3,
     "metadata": {},
     "output_type": "execute_result"
    }
   ],
   "source": [
    "genres_tuple[3]"
   ]
  },
  {
   "cell_type": "markdown",
   "id": "3e05ae7c-c702-449e-930a-f4fee15d9e81",
   "metadata": {},
   "source": [
    "#### Use slicing to obtain indexes 3, 4 and 5"
   ]
  },
  {
   "cell_type": "code",
   "execution_count": 4,
   "id": "efd4968c-175a-4194-b637-ed17e3ee6b23",
   "metadata": {},
   "outputs": [
    {
     "data": {
      "text/plain": [
       "('hard rock', 'soft rock', 'R&B')"
      ]
     },
     "execution_count": 4,
     "metadata": {},
     "output_type": "execute_result"
    }
   ],
   "source": [
    "genres_tuple[3:6]"
   ]
  },
  {
   "cell_type": "markdown",
   "id": "c5b7ece3-8a36-4369-b137-29938f24710c",
   "metadata": {},
   "source": [
    "#### Find the first two elements of the tuple genres_tuple"
   ]
  },
  {
   "cell_type": "code",
   "execution_count": 5,
   "id": "34c9336b-4ad7-4dd0-a63e-4bc4d193be41",
   "metadata": {},
   "outputs": [
    {
     "data": {
      "text/plain": [
       "('pop', 'rock')"
      ]
     },
     "execution_count": 5,
     "metadata": {},
     "output_type": "execute_result"
    }
   ],
   "source": [
    "genres_tuple[0:2]"
   ]
  },
  {
   "cell_type": "markdown",
   "id": "a0213721-9377-4148-8bd4-1a9b32f41021",
   "metadata": {},
   "source": [
    "#### Find the first index of \"disco\""
   ]
  },
  {
   "cell_type": "code",
   "execution_count": 6,
   "id": "703ec09d-9e9e-4697-a632-6247a9eb1ac5",
   "metadata": {},
   "outputs": [
    {
     "data": {
      "text/plain": [
       "7"
      ]
     },
     "execution_count": 6,
     "metadata": {},
     "output_type": "execute_result"
    }
   ],
   "source": [
    "genres_tuple.index(\"disco\")"
   ]
  },
  {
   "cell_type": "markdown",
   "id": "ae55b94b-61ca-4ceb-8e44-866cdd5247e3",
   "metadata": {},
   "source": [
    "#### Generate a sorted List from the Tuple C_tuple=(-5, 1, -3)"
   ]
  },
  {
   "cell_type": "code",
   "execution_count": 8,
   "id": "b418b42a-ce4d-40e1-8b7f-18316a224501",
   "metadata": {},
   "outputs": [
    {
     "data": {
      "text/plain": [
       "[-5, -3, 1]"
      ]
     },
     "execution_count": 8,
     "metadata": {},
     "output_type": "execute_result"
    }
   ],
   "source": [
    "C_tuple = (-5, 1, -3)\n",
    "C_list = sorted(C_tuple)\n",
    "C_list"
   ]
  }
 ],
 "metadata": {
  "kernelspec": {
   "display_name": "Python 3 (ipykernel)",
   "language": "python",
   "name": "python3"
  },
  "language_info": {
   "codemirror_mode": {
    "name": "ipython",
    "version": 3
   },
   "file_extension": ".py",
   "mimetype": "text/x-python",
   "name": "python",
   "nbconvert_exporter": "python",
   "pygments_lexer": "ipython3",
   "version": "3.13.2"
  }
 },
 "nbformat": 4,
 "nbformat_minor": 5
}
