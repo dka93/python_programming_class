{
 "cells": [
  {
   "cell_type": "code",
   "execution_count": null,
   "id": "548939f9-906a-4b80-905f-52b0d19eb40c",
   "metadata": {},
   "outputs": [],
   "source": [
    "# 이름 : 손득하\n",
    "# 학번 : 2025152525\n",
    "# 과정 : 석사과정"
   ]
  },
  {
   "cell_type": "markdown",
   "id": "49b63a99-b42e-45d2-8148-ba6bd7d1c0cb",
   "metadata": {},
   "source": [
    "## Exercise1(Types) : Your First Program"
   ]
  },
  {
   "cell_type": "code",
   "execution_count": 2,
   "id": "c661de6a-8e4b-4a85-a9d8-2eded490da00",
   "metadata": {},
   "outputs": [
    {
     "name": "stdout",
     "output_type": "stream",
     "text": [
      "Hello, world!\n"
     ]
    }
   ],
   "source": [
    "print(\"Hello, world!\")"
   ]
  },
  {
   "cell_type": "code",
   "execution_count": 3,
   "id": "6862688f-fac2-4b25-92f5-70925171ea51",
   "metadata": {},
   "outputs": [
    {
     "name": "stdout",
     "output_type": "stream",
     "text": [
      "Hello, world!\n"
     ]
    }
   ],
   "source": [
    "print(\"Hello, world!\") # Print the traditional hello world"
   ]
  },
  {
   "cell_type": "markdown",
   "id": "aef881a0-1d6f-46a8-aa9b-26798ddcf14e",
   "metadata": {},
   "source": [
    "## Exercise2(Types) : Get the object type"
   ]
  },
  {
   "cell_type": "code",
   "execution_count": 11,
   "id": "e792c64b-c9d1-4952-a467-a30086e27715",
   "metadata": {},
   "outputs": [
    {
     "data": {
      "text/plain": [
       "float"
      ]
     },
     "execution_count": 11,
     "metadata": {},
     "output_type": "execute_result"
    }
   ],
   "source": [
    "type(12.0)"
   ]
  },
  {
   "cell_type": "code",
   "execution_count": 12,
   "id": "39c2e039-3f46-4687-8598-6623b947d355",
   "metadata": {},
   "outputs": [
    {
     "data": {
      "text/plain": [
       "str"
      ]
     },
     "execution_count": 12,
     "metadata": {},
     "output_type": "execute_result"
    }
   ],
   "source": [
    "type('3.0')"
   ]
  },
  {
   "cell_type": "markdown",
   "id": "517f389a-960a-408f-95c7-bf44f475a5be",
   "metadata": {},
   "source": [
    "## Exercise3(Types) : Types"
   ]
  },
  {
   "cell_type": "code",
   "execution_count": 15,
   "id": "3e84bb52-db2e-4741-9629-9dead26d3042",
   "metadata": {},
   "outputs": [
    {
     "data": {
      "text/plain": [
       "float"
      ]
     },
     "execution_count": 15,
     "metadata": {},
     "output_type": "execute_result"
    }
   ],
   "source": [
    "type(6/2)"
   ]
  },
  {
   "cell_type": "code",
   "execution_count": 16,
   "id": "034add63-528f-4b58-9158-ecd16657fe85",
   "metadata": {},
   "outputs": [
    {
     "data": {
      "text/plain": [
       "int"
      ]
     },
     "execution_count": 16,
     "metadata": {},
     "output_type": "execute_result"
    }
   ],
   "source": [
    "type(6//2)"
   ]
  },
  {
   "cell_type": "markdown",
   "id": "d5fcff8d-3bd5-41ac-a24a-55a8106a6f14",
   "metadata": {},
   "source": [
    "## Exercise4(Types) : Expression"
   ]
  },
  {
   "cell_type": "code",
   "execution_count": 17,
   "id": "8f48fc4e-68aa-42d8-8e0e-447a6eb75cf4",
   "metadata": {},
   "outputs": [
    {
     "data": {
      "text/plain": [
       "2.6666666666666665"
      ]
     },
     "execution_count": 17,
     "metadata": {},
     "output_type": "execute_result"
    }
   ],
   "source": [
    "160/60"
   ]
  },
  {
   "cell_type": "markdown",
   "id": "81c27985-c583-435a-b316-da043d4493de",
   "metadata": {},
   "source": [
    "## Exercise5(Types) : Expression and Variables in Python"
   ]
  },
  {
   "cell_type": "code",
   "execution_count": 26,
   "id": "c64f1a54-057b-468c-bf81-ec0e794ebb14",
   "metadata": {},
   "outputs": [
    {
     "data": {
      "text/plain": [
       "7"
      ]
     },
     "execution_count": 26,
     "metadata": {},
     "output_type": "execute_result"
    }
   ],
   "source": [
    "x = 3+2*2\n",
    "x"
   ]
  },
  {
   "cell_type": "code",
   "execution_count": 24,
   "id": "7cd9ea6d-df45-4e47-8c12-cca63accb076",
   "metadata": {},
   "outputs": [
    {
     "data": {
      "text/plain": [
       "10"
      ]
     },
     "execution_count": 24,
     "metadata": {},
     "output_type": "execute_result"
    }
   ],
   "source": [
    "y = (3+2)*2\n",
    "y"
   ]
  },
  {
   "cell_type": "code",
   "execution_count": 25,
   "id": "72ee9529-0aa5-45ec-a720-ce1495b5b374",
   "metadata": {},
   "outputs": [
    {
     "data": {
      "text/plain": [
       "17"
      ]
     },
     "execution_count": 25,
     "metadata": {},
     "output_type": "execute_result"
    }
   ],
   "source": [
    "z = x + y\n",
    "z"
   ]
  }
 ],
 "metadata": {
  "kernelspec": {
   "display_name": "Python 3 (ipykernel)",
   "language": "python",
   "name": "python3"
  },
  "language_info": {
   "codemirror_mode": {
    "name": "ipython",
    "version": 3
   },
   "file_extension": ".py",
   "mimetype": "text/x-python",
   "name": "python",
   "nbconvert_exporter": "python",
   "pygments_lexer": "ipython3",
   "version": "3.13.2"
  }
 },
 "nbformat": 4,
 "nbformat_minor": 5
}
