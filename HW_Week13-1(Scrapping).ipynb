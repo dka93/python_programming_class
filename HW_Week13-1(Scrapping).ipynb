{
 "cells": [
  {
   "cell_type": "code",
   "execution_count": 1,
   "id": "c6e7e805-89b9-4a13-97a4-59eb5a8cf584",
   "metadata": {},
   "outputs": [],
   "source": [
    "import xml.etree.ElementTree as et\n",
    "tree = et.ElementTree(file='menu.xml')\n",
    "root = tree.getroot()"
   ]
  },
  {
   "cell_type": "code",
   "execution_count": 2,
   "id": "8b2fabdc-29ae-4775-9c7c-b8b94c008e89",
   "metadata": {},
   "outputs": [
    {
     "name": "stdout",
     "output_type": "stream",
     "text": [
      "menu\n"
     ]
    }
   ],
   "source": [
    "print(root.tag)"
   ]
  },
  {
   "cell_type": "code",
   "execution_count": 3,
   "id": "be5d4cf6-bdc3-4e12-83d2-6a38947a8faf",
   "metadata": {},
   "outputs": [
    {
     "name": "stdout",
     "output_type": "stream",
     "text": [
      "tag: breakfast attributes: {'hours': '7-11'}\n",
      "\ttag: item attributes: {'price': '$6.00'}\n",
      "\ttag: item attributes: {'price': '$4.00'}\n",
      "tag: lunch attributes: {'hours': '11-3'}\n",
      "\ttag: item attributes: {'price': '$5.00'}\n",
      "tag: dinner attributes: {'hours': '3-10'}\n",
      "\ttag: item attributes: {'price': '8.00'}\n"
     ]
    }
   ],
   "source": [
    "for child in root:\n",
    "  print('tag:', child.tag, 'attributes:', child.attrib)\n",
    "  for grandchild in child:\n",
    "    print('\\ttag:', grandchild.tag, 'attributes:', grandchild.attrib)"
   ]
  },
  {
   "cell_type": "code",
   "execution_count": 4,
   "id": "852d8f73-f818-4ddd-932c-71bf1bc2b5af",
   "metadata": {},
   "outputs": [
    {
     "data": {
      "text/plain": [
       "3"
      ]
     },
     "execution_count": 4,
     "metadata": {},
     "output_type": "execute_result"
    }
   ],
   "source": [
    "len(root)"
   ]
  },
  {
   "cell_type": "code",
   "execution_count": 5,
   "id": "df684b40-1fb0-42d6-951b-7c13fd3e3b1b",
   "metadata": {},
   "outputs": [
    {
     "data": {
      "text/plain": [
       "2"
      ]
     },
     "execution_count": 5,
     "metadata": {},
     "output_type": "execute_result"
    }
   ],
   "source": [
    "len(root[0])"
   ]
  },
  {
   "cell_type": "code",
   "execution_count": 6,
   "id": "1fd99f3e-c481-4da0-b2e4-37b1f1e03d22",
   "metadata": {},
   "outputs": [
    {
     "name": "stdout",
     "output_type": "stream",
     "text": [
      "<Element 'breakfast' at 0x00000216538B4EA0>\n"
     ]
    }
   ],
   "source": [
    "print(root[0])"
   ]
  },
  {
   "cell_type": "code",
   "execution_count": 7,
   "id": "23010117-a3df-44be-9f6f-d12643bbf18f",
   "metadata": {},
   "outputs": [
    {
     "name": "stdout",
     "output_type": "stream",
     "text": [
      "7-11\n"
     ]
    }
   ],
   "source": [
    "print(root[0].get(\"hours\"))"
   ]
  },
  {
   "cell_type": "code",
   "execution_count": 8,
   "id": "827e76d0-17b4-4ebb-bd66-30d4d2fd1f4c",
   "metadata": {},
   "outputs": [
    {
     "name": "stdout",
     "output_type": "stream",
     "text": [
      "['hours']\n"
     ]
    }
   ],
   "source": [
    "print(root[0].keys())"
   ]
  },
  {
   "cell_type": "code",
   "execution_count": 9,
   "id": "ed11342e-9402-47b2-b6b6-7a00a81f671e",
   "metadata": {},
   "outputs": [
    {
     "name": "stdout",
     "output_type": "stream",
     "text": [
      "[('hours', '7-11')]\n"
     ]
    }
   ],
   "source": [
    "print(root[0].items())"
   ]
  },
  {
   "cell_type": "code",
   "execution_count": 10,
   "id": "3200c848-1941-4761-8c1f-a82e98d38962",
   "metadata": {},
   "outputs": [],
   "source": [
    "lunch=root.find(\"lunch\")"
   ]
  },
  {
   "cell_type": "code",
   "execution_count": 11,
   "id": "affd32c4-0797-410d-8fb3-358fc22964ca",
   "metadata": {},
   "outputs": [
    {
     "name": "stdout",
     "output_type": "stream",
     "text": [
      "<Element 'lunch' at 0x00000216538B4F90>\n"
     ]
    }
   ],
   "source": [
    "print(lunch)"
   ]
  },
  {
   "cell_type": "code",
   "execution_count": 12,
   "id": "2c73bf5c-37de-4c24-bcef-0d42b6ced6af",
   "metadata": {},
   "outputs": [
    {
     "name": "stdout",
     "output_type": "stream",
     "text": [
      "11-3\n"
     ]
    }
   ],
   "source": [
    "print(lunch.get(\"hours\"))"
   ]
  },
  {
   "cell_type": "code",
   "execution_count": 13,
   "id": "b434568a-5701-4d12-81c0-e613536d1787",
   "metadata": {},
   "outputs": [
    {
     "name": "stdout",
     "output_type": "stream",
     "text": [
      "['hours']\n"
     ]
    }
   ],
   "source": [
    "print(lunch.keys())"
   ]
  },
  {
   "cell_type": "code",
   "execution_count": 14,
   "id": "7b322c92-4988-43b7-896b-822274f65440",
   "metadata": {},
   "outputs": [
    {
     "name": "stdout",
     "output_type": "stream",
     "text": [
      "[('hours', '11-3')]\n"
     ]
    }
   ],
   "source": [
    "print(lunch.items())"
   ]
  },
  {
   "cell_type": "code",
   "execution_count": 15,
   "id": "6397ef6a-b761-4827-969b-79fb3eb5a245",
   "metadata": {},
   "outputs": [
    {
     "name": "stdout",
     "output_type": "stream",
     "text": [
      "[<Element 'item' at 0x00000216538B4EF0>, <Element 'item' at 0x00000216538B4F40>]\n"
     ]
    }
   ],
   "source": [
    "print(root[0].findall('item'))"
   ]
  },
  {
   "cell_type": "code",
   "execution_count": 16,
   "id": "995feae2-8dd2-42c8-a64f-8c021a25eb97",
   "metadata": {},
   "outputs": [
    {
     "name": "stdout",
     "output_type": "stream",
     "text": [
      "[<Element 'item' at 0x00000216538B4EF0>, <Element 'item' at 0x00000216538B4F40>]\n"
     ]
    }
   ],
   "source": [
    "print(root[0].findall('item'))"
   ]
  },
  {
   "cell_type": "code",
   "execution_count": 17,
   "id": "f2fd0b91-ebdd-4f8e-8b10-493a7c9cbdbf",
   "metadata": {},
   "outputs": [
    {
     "name": "stdout",
     "output_type": "stream",
     "text": [
      "$6.00\n",
      "breakfast burritos\n",
      "$4.00\n",
      "pancakes\n"
     ]
    }
   ],
   "source": [
    "for item in root[0].findall('item'):\n",
    "  print(item.get('price'))\n",
    "  print(item.text)"
   ]
  },
  {
   "cell_type": "code",
   "execution_count": 18,
   "id": "41b93a11-cc8e-44b7-91ae-4864ea601637",
   "metadata": {},
   "outputs": [],
   "source": [
    "import json"
   ]
  },
  {
   "cell_type": "code",
   "execution_count": 19,
   "id": "3ccfbf78-acf7-4192-b6e4-1d5c1f1a958a",
   "metadata": {},
   "outputs": [
    {
     "data": {
      "text/plain": [
       "dict"
      ]
     },
     "execution_count": 19,
     "metadata": {},
     "output_type": "execute_result"
    }
   ],
   "source": [
    "j1 = {\"name\":\"홍길동\", \"birth\":\"0525\", \"age\":30}\n",
    "type(j1)"
   ]
  },
  {
   "cell_type": "code",
   "execution_count": 20,
   "id": "7cbd1357-e16e-452f-808f-9d24eb21cbde",
   "metadata": {},
   "outputs": [
    {
     "name": "stdout",
     "output_type": "stream",
     "text": [
      "{'name': '홍길동', 'birth': '0525', 'age': 30}\n"
     ]
    }
   ],
   "source": [
    "print(j1)"
   ]
  },
  {
   "cell_type": "code",
   "execution_count": 21,
   "id": "d2af5c24-626d-4a55-9cd9-ea8fcb722267",
   "metadata": {},
   "outputs": [
    {
     "data": {
      "text/plain": [
       "'{\"name\": \"\\\\ud64d\\\\uae38\\\\ub3d9\", \"birth\": \"0525\", \"age\": 30}'"
      ]
     },
     "execution_count": 21,
     "metadata": {},
     "output_type": "execute_result"
    }
   ],
   "source": [
    "json.dumps(j1)"
   ]
  },
  {
   "cell_type": "code",
   "execution_count": 22,
   "id": "64a9d569-cc79-414c-9e69-b80880f9a65f",
   "metadata": {},
   "outputs": [],
   "source": [
    "a=json.dumps(j1)"
   ]
  },
  {
   "cell_type": "code",
   "execution_count": 23,
   "id": "96721ed7-6db2-4c3d-83eb-571ce895a5c0",
   "metadata": {},
   "outputs": [
    {
     "data": {
      "text/plain": [
       "str"
      ]
     },
     "execution_count": 23,
     "metadata": {},
     "output_type": "execute_result"
    }
   ],
   "source": [
    "type(a)"
   ]
  },
  {
   "cell_type": "code",
   "execution_count": 24,
   "id": "2eca44db-38bc-4c99-b124-9a0e34532899",
   "metadata": {},
   "outputs": [
    {
     "name": "stdout",
     "output_type": "stream",
     "text": [
      "{\"name\": \"\\ud64d\\uae38\\ub3d9\", \"birth\": \"0525\", \"age\": 30}\n"
     ]
    }
   ],
   "source": [
    "print(json.dumps(j1))"
   ]
  },
  {
   "cell_type": "code",
   "execution_count": 25,
   "id": "e855e90e-217e-4253-aec6-f9f18746d39f",
   "metadata": {},
   "outputs": [
    {
     "name": "stdout",
     "output_type": "stream",
     "text": [
      "{\n",
      "  \"name\": \"\\ud64d\\uae38\\ub3d9\",\n",
      "  \"birth\": \"0525\",\n",
      "  \"age\": 30\n",
      "}\n"
     ]
    }
   ],
   "source": [
    "print(json.dumps(j1,indent=2))"
   ]
  },
  {
   "cell_type": "code",
   "execution_count": 26,
   "id": "dd63e304-fda6-4738-828a-70871b52adc3",
   "metadata": {},
   "outputs": [
    {
     "data": {
      "text/plain": [
       "'[1, 2, 3]'"
      ]
     },
     "execution_count": 26,
     "metadata": {},
     "output_type": "execute_result"
    }
   ],
   "source": [
    "json.dumps([1,2,3])"
   ]
  },
  {
   "cell_type": "code",
   "execution_count": 27,
   "id": "36f3b8dc-6512-42a4-9f1b-da8486139378",
   "metadata": {},
   "outputs": [
    {
     "data": {
      "text/plain": [
       "'[4, 5, 6]'"
      ]
     },
     "execution_count": 27,
     "metadata": {},
     "output_type": "execute_result"
    }
   ],
   "source": [
    "json.dumps((4,5,6))"
   ]
  },
  {
   "cell_type": "code",
   "execution_count": 28,
   "id": "847acf11-d700-4202-bea8-1d34fe8c50ff",
   "metadata": {},
   "outputs": [],
   "source": [
    "j1 = {\"name\":\"홍길동\", \"birth\":\"0525\", \"age\": 30}"
   ]
  },
  {
   "cell_type": "code",
   "execution_count": 29,
   "id": "c031abff-e236-4440-9837-4a94a11e38b6",
   "metadata": {},
   "outputs": [],
   "source": [
    "d1 = json.dumps(j1)"
   ]
  },
  {
   "cell_type": "code",
   "execution_count": 30,
   "id": "fb517b3d-c286-4abb-aacd-9f731d57860f",
   "metadata": {},
   "outputs": [
    {
     "data": {
      "text/plain": [
       "{'name': '홍길동', 'birth': '0525', 'age': 30}"
      ]
     },
     "execution_count": 30,
     "metadata": {},
     "output_type": "execute_result"
    }
   ],
   "source": [
    "json.loads(d1)"
   ]
  },
  {
   "cell_type": "code",
   "execution_count": 31,
   "id": "3264eaec-e39f-4438-86ba-ef05c1411c96",
   "metadata": {},
   "outputs": [],
   "source": [
    "import json\n",
    "\n",
    "data = {\n",
    "    \"name\": \"홍길동\",\n",
    "    \"birth\": \"0525\",\n",
    "    \"age\": 30\n",
    "}\n",
    "\n",
    "with open('myinfo.json', 'w', encoding='utf-8') as f:\n",
    "    json.dump(data, f, ensure_ascii=False, indent=4)"
   ]
  },
  {
   "cell_type": "code",
   "execution_count": 5,
   "id": "55e12659-a230-4646-8a83-fcd11dc85424",
   "metadata": {},
   "outputs": [
    {
     "name": "stdout",
     "output_type": "stream",
     "text": [
      "b'<html>\\n<head>\\n<title>A Useful Page</title>\\n</head>\\n<body>\\n<h1>An Interesting Title</h1>\\n<div>\\nLorem ipsum dolor sit amet, consectetur adipisicing elit, sed do eiusmod tempor incididunt ut labore et dolore magna aliqua. Ut enim ad minim veniam, quis nostrud exercitation ullamco laboris nisi ut aliquip ex ea commodo consequat. Duis aute irure dolor in reprehenderit in voluptate velit esse cillum dolore eu fugiat nulla pariatur. Excepteur sint occaecat cupidatat non proident, sunt in culpa qui officia deserunt mollit anim id est laborum.\\n</div>\\n</body>\\n</html>\\n'\n"
     ]
    }
   ],
   "source": [
    "from urllib.request import urlopen\n",
    "html = urlopen(\"http://pythonscraping.com/pages/page1.html\")\n",
    "print(html.read())"
   ]
  },
  {
   "cell_type": "code",
   "execution_count": 6,
   "id": "635f21c9-9a5c-4457-9bcd-699d4f4ee015",
   "metadata": {},
   "outputs": [
    {
     "name": "stdout",
     "output_type": "stream",
     "text": [
      "<h1>An Interesting Title</h1>\n"
     ]
    }
   ],
   "source": [
    "from urllib.request import urlopen\n",
    "from bs4 import BeautifulSoup\n",
    "html = urlopen(\"http://pythonscraping.com/pages/page1.html\")\n",
    "bsObj = BeautifulSoup(html.read())\n",
    "print(bsObj.h1)"
   ]
  },
  {
   "cell_type": "code",
   "execution_count": 7,
   "id": "e2f723b8-a82b-4d73-be54-82e28efb95e4",
   "metadata": {},
   "outputs": [
    {
     "name": "stdout",
     "output_type": "stream",
     "text": [
      "<html>\n",
      " <head>\n",
      "  <title>\n",
      "   A Useful Page\n",
      "  </title>\n",
      " </head>\n",
      " <body>\n",
      "  <h1>\n",
      "   An Interesting Title\n",
      "  </h1>\n",
      "  <div>\n",
      "   Lorem ipsum dolor sit amet, consectetur adipisicing elit, sed do eiusmod tempor incididunt ut labore et dolore magna aliqua. Ut enim ad minim veniam, quis nostrud exercitation ullamco laboris nisi ut aliquip ex ea commodo consequat. Duis aute irure dolor in reprehenderit in voluptate velit esse cillum dolore eu fugiat nulla pariatur. Excepteur sint occaecat cupidatat non proident, sunt in culpa qui officia deserunt mollit anim id est laborum.\n",
      "  </div>\n",
      " </body>\n",
      "</html>\n",
      "\n"
     ]
    }
   ],
   "source": [
    "print(bsObj.html.prettify())"
   ]
  },
  {
   "cell_type": "code",
   "execution_count": null,
   "id": "a49cc87c-e35a-4430-a42f-cf315fc032de",
   "metadata": {},
   "outputs": [],
   "source": []
  }
 ],
 "metadata": {
  "kernelspec": {
   "display_name": "Python 3 (ipykernel)",
   "language": "python",
   "name": "python3"
  },
  "language_info": {
   "codemirror_mode": {
    "name": "ipython",
    "version": 3
   },
   "file_extension": ".py",
   "mimetype": "text/x-python",
   "name": "python",
   "nbconvert_exporter": "python",
   "pygments_lexer": "ipython3",
   "version": "3.13.2"
  }
 },
 "nbformat": 4,
 "nbformat_minor": 5
}
